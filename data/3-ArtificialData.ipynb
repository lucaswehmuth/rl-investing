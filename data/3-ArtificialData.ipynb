{
 "cells": [
  {
   "cell_type": "code",
   "execution_count": 2,
   "id": "outside-marijuana",
   "metadata": {},
   "outputs": [],
   "source": [
    "import csv\n",
    "import pandas as pd\n",
    "import yfinance as yf"
   ]
  },
  {
   "cell_type": "code",
   "execution_count": 3,
   "id": "biblical-interest",
   "metadata": {},
   "outputs": [
    {
     "name": "stdout",
     "output_type": "stream",
     "text": [
      "[*********************100%***********************]  1 of 1 completed\n"
     ]
    }
   ],
   "source": [
    "tckt = \"AAPL\"\n",
    "data = yf.download(tckt, start=\"2000-01-01\", end=\"2020-01-01\")"
   ]
  },
  {
   "cell_type": "code",
   "execution_count": 7,
   "id": "chemical-congress",
   "metadata": {},
   "outputs": [],
   "source": [
    "data = data.reset_index()"
   ]
  },
  {
   "cell_type": "code",
   "execution_count": 18,
   "id": "athletic-subsection",
   "metadata": {},
   "outputs": [
    {
     "name": "stderr",
     "output_type": "stream",
     "text": [
      "/opt/miniconda3/envs/ds/lib/python3.8/site-packages/pandas/core/indexing.py:1637: SettingWithCopyWarning: \n",
      "A value is trying to be set on a copy of a slice from a DataFrame\n",
      "\n",
      "See the caveats in the documentation: https://pandas.pydata.org/pandas-docs/stable/user_guide/indexing.html#returning-a-view-versus-a-copy\n",
      "  self._setitem_single_block(indexer, value, name)\n"
     ]
    }
   ],
   "source": [
    "for i in range(len(data)):\n",
    "    data.Open.loc[i] = i+0.75\n",
    "    data.Low.loc[i] = i+0.5\n",
    "    data.High.loc[i] = i+1\n",
    "    data.Close.loc[i] = i+2\n",
    "    data.Volume.loc[i] = 1000000"
   ]
  },
  {
   "cell_type": "code",
   "execution_count": 19,
   "id": "vulnerable-produce",
   "metadata": {},
   "outputs": [
    {
     "data": {
      "text/html": [
       "<div>\n",
       "<style scoped>\n",
       "    .dataframe tbody tr th:only-of-type {\n",
       "        vertical-align: middle;\n",
       "    }\n",
       "\n",
       "    .dataframe tbody tr th {\n",
       "        vertical-align: top;\n",
       "    }\n",
       "\n",
       "    .dataframe thead th {\n",
       "        text-align: right;\n",
       "    }\n",
       "</style>\n",
       "<table border=\"1\" class=\"dataframe\">\n",
       "  <thead>\n",
       "    <tr style=\"text-align: right;\">\n",
       "      <th></th>\n",
       "      <th>Date</th>\n",
       "      <th>Open</th>\n",
       "      <th>High</th>\n",
       "      <th>Low</th>\n",
       "      <th>Close</th>\n",
       "      <th>Adj Close</th>\n",
       "      <th>Volume</th>\n",
       "    </tr>\n",
       "  </thead>\n",
       "  <tbody>\n",
       "    <tr>\n",
       "      <th>0</th>\n",
       "      <td>2000-01-03</td>\n",
       "      <td>0.75</td>\n",
       "      <td>1.0</td>\n",
       "      <td>0.5</td>\n",
       "      <td>2.0</td>\n",
       "      <td>0.860883</td>\n",
       "      <td>1000000</td>\n",
       "    </tr>\n",
       "    <tr>\n",
       "      <th>1</th>\n",
       "      <td>2000-01-04</td>\n",
       "      <td>1.75</td>\n",
       "      <td>2.0</td>\n",
       "      <td>1.5</td>\n",
       "      <td>3.0</td>\n",
       "      <td>0.788302</td>\n",
       "      <td>1000000</td>\n",
       "    </tr>\n",
       "    <tr>\n",
       "      <th>2</th>\n",
       "      <td>2000-01-05</td>\n",
       "      <td>2.75</td>\n",
       "      <td>3.0</td>\n",
       "      <td>2.5</td>\n",
       "      <td>4.0</td>\n",
       "      <td>0.799837</td>\n",
       "      <td>1000000</td>\n",
       "    </tr>\n",
       "    <tr>\n",
       "      <th>3</th>\n",
       "      <td>2000-01-06</td>\n",
       "      <td>3.75</td>\n",
       "      <td>4.0</td>\n",
       "      <td>3.5</td>\n",
       "      <td>5.0</td>\n",
       "      <td>0.730621</td>\n",
       "      <td>1000000</td>\n",
       "    </tr>\n",
       "    <tr>\n",
       "      <th>4</th>\n",
       "      <td>2000-01-07</td>\n",
       "      <td>4.75</td>\n",
       "      <td>5.0</td>\n",
       "      <td>4.5</td>\n",
       "      <td>6.0</td>\n",
       "      <td>0.765229</td>\n",
       "      <td>1000000</td>\n",
       "    </tr>\n",
       "    <tr>\n",
       "      <th>...</th>\n",
       "      <td>...</td>\n",
       "      <td>...</td>\n",
       "      <td>...</td>\n",
       "      <td>...</td>\n",
       "      <td>...</td>\n",
       "      <td>...</td>\n",
       "      <td>...</td>\n",
       "    </tr>\n",
       "    <tr>\n",
       "      <th>5026</th>\n",
       "      <td>2019-12-24</td>\n",
       "      <td>5026.75</td>\n",
       "      <td>5027.0</td>\n",
       "      <td>5026.5</td>\n",
       "      <td>5028.0</td>\n",
       "      <td>70.353882</td>\n",
       "      <td>1000000</td>\n",
       "    </tr>\n",
       "    <tr>\n",
       "      <th>5027</th>\n",
       "      <td>2019-12-26</td>\n",
       "      <td>5027.75</td>\n",
       "      <td>5028.0</td>\n",
       "      <td>5027.5</td>\n",
       "      <td>5029.0</td>\n",
       "      <td>71.749733</td>\n",
       "      <td>1000000</td>\n",
       "    </tr>\n",
       "    <tr>\n",
       "      <th>5028</th>\n",
       "      <td>2019-12-27</td>\n",
       "      <td>5028.75</td>\n",
       "      <td>5029.0</td>\n",
       "      <td>5028.5</td>\n",
       "      <td>5030.0</td>\n",
       "      <td>71.722488</td>\n",
       "      <td>1000000</td>\n",
       "    </tr>\n",
       "    <tr>\n",
       "      <th>5029</th>\n",
       "      <td>2019-12-30</td>\n",
       "      <td>5029.75</td>\n",
       "      <td>5030.0</td>\n",
       "      <td>5029.5</td>\n",
       "      <td>5031.0</td>\n",
       "      <td>72.148178</td>\n",
       "      <td>1000000</td>\n",
       "    </tr>\n",
       "    <tr>\n",
       "      <th>5030</th>\n",
       "      <td>2019-12-31</td>\n",
       "      <td>5030.75</td>\n",
       "      <td>5031.0</td>\n",
       "      <td>5030.5</td>\n",
       "      <td>5032.0</td>\n",
       "      <td>72.675339</td>\n",
       "      <td>1000000</td>\n",
       "    </tr>\n",
       "  </tbody>\n",
       "</table>\n",
       "<p>5031 rows × 7 columns</p>\n",
       "</div>"
      ],
      "text/plain": [
       "           Date     Open    High     Low   Close  Adj Close   Volume\n",
       "0    2000-01-03     0.75     1.0     0.5     2.0   0.860883  1000000\n",
       "1    2000-01-04     1.75     2.0     1.5     3.0   0.788302  1000000\n",
       "2    2000-01-05     2.75     3.0     2.5     4.0   0.799837  1000000\n",
       "3    2000-01-06     3.75     4.0     3.5     5.0   0.730621  1000000\n",
       "4    2000-01-07     4.75     5.0     4.5     6.0   0.765229  1000000\n",
       "...         ...      ...     ...     ...     ...        ...      ...\n",
       "5026 2019-12-24  5026.75  5027.0  5026.5  5028.0  70.353882  1000000\n",
       "5027 2019-12-26  5027.75  5028.0  5027.5  5029.0  71.749733  1000000\n",
       "5028 2019-12-27  5028.75  5029.0  5028.5  5030.0  71.722488  1000000\n",
       "5029 2019-12-30  5029.75  5030.0  5029.5  5031.0  72.148178  1000000\n",
       "5030 2019-12-31  5030.75  5031.0  5030.5  5032.0  72.675339  1000000\n",
       "\n",
       "[5031 rows x 7 columns]"
      ]
     },
     "execution_count": 19,
     "metadata": {},
     "output_type": "execute_result"
    }
   ],
   "source": [
    "data"
   ]
  },
  {
   "cell_type": "code",
   "execution_count": 20,
   "id": "strategic-tattoo",
   "metadata": {},
   "outputs": [],
   "source": [
    "filename = \"Artificial.csv\"\n",
    "\n",
    "with open(filename, 'w', newline='') as file:\n",
    "    writer = csv.writer(file)\n",
    "    writer.writerow([\"date\", \"open\", \"high\", \"low\", \"close\", \"volume\"])\n",
    "    writer.writerows(zip(data.Date, data.Open, data.High, data.Low, data.Close, data.Volume))\n",
    "    file.close()"
   ]
  },
  {
   "cell_type": "code",
   "execution_count": null,
   "id": "independent-flood",
   "metadata": {},
   "outputs": [],
   "source": []
  }
 ],
 "metadata": {
  "kernelspec": {
   "display_name": "Python 3",
   "language": "python",
   "name": "python3"
  },
  "language_info": {
   "codemirror_mode": {
    "name": "ipython",
    "version": 3
   },
   "file_extension": ".py",
   "mimetype": "text/x-python",
   "name": "python",
   "nbconvert_exporter": "python",
   "pygments_lexer": "ipython3",
   "version": "3.8.5"
  }
 },
 "nbformat": 4,
 "nbformat_minor": 5
}
