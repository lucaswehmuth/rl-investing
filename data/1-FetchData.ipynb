{
 "cells": [
  {
   "cell_type": "code",
   "execution_count": 1,
   "metadata": {},
   "outputs": [],
   "source": [
    "import pandas as pd\n",
    "pd.options.display.max_rows = 4000\n",
    "\n",
    "import numpy as np\n",
    "import matplotlib.pyplot as plt\n",
    "import random\n",
    "import yfinance as yf\n",
    "import csv"
   ]
  },
  {
   "cell_type": "markdown",
   "metadata": {},
   "source": [
    "# All stocks"
   ]
  },
  {
   "cell_type": "code",
   "execution_count": 7,
   "metadata": {},
   "outputs": [],
   "source": [
    "# Current Dow Jones Index (DJI) list of companies (30)\n",
    "\n",
    "    # 3M - MMM\n",
    "    # American Express - AXP\n",
    "    # Amgen - AMGN\n",
    "    # Apple - AAPL\n",
    "    # Boeing - BA\n",
    "    # Caterpillar - CAT\n",
    "    # Chevron - CVX\n",
    "    # Cisco - CSCO\n",
    "    # Coca-Cola - KO\n",
    "    # Dow - DOW\n",
    "    # Goldman Sachs - GS\n",
    "    # Home Depot - HD\n",
    "    # Honeywell - HON\n",
    "    # IBM - IBM\n",
    "    # Intel - INTC\n",
    "    # Johnson & Johnson - JNJ\n",
    "    # JPMorgan Chase - JPM\n",
    "    # McDonalds - MCD\n",
    "    # Merck - MRK\n",
    "    # Microsoft - MSFT\n",
    "    # Nike - NKE\n",
    "    # Procter & Gamble - PG\n",
    "    # Salesforce - CRM\n",
    "    # Travelers - TRV\n",
    "    # UnitedHealth - UNH\n",
    "    # Verizon - VZ\n",
    "    # Visa - V\n",
    "    # Walgreens Boots Alliance - WBA\n",
    "    # Walmart - WMT\n",
    "    # Walt Disney - DIS"
   ]
  },
  {
   "cell_type": "code",
   "execution_count": 2,
   "metadata": {},
   "outputs": [],
   "source": [
    "tickers = [\"MMM\",\"AXP\",\"AMGN\",\"AAPL\",\"BA\",\"CAT\",\"CVX\",\"CSCO\",\"KO\",\"DOW\",\"GS\",\"HD\",\"HON\",\"IBM\",\"INTC\",\"JNJ\",\"JPM\",\"MCD\",\"MRK\",\"MSFT\",\"NKE\",\"PG\",\"CRM\",\"TRV\",\"UNH\",\"VZ\",\"V\",\"WBA\",\"WMT\",\"DIS\"]"
   ]
  },
  {
   "cell_type": "code",
   "execution_count": 3,
   "metadata": {
    "scrolled": false
   },
   "outputs": [],
   "source": [
    "# for tckt in tickers:\n",
    "#     data = yf.download(tckt, start=\"2000-01-01\", end=\"2020-01-01\")\n",
    "#     data = data.reset_index()\n",
    "    \n",
    "#     filename = tckt + \".csv\"\n",
    "    \n",
    "#     with open(filename, 'w', newline='') as file:\n",
    "#         writer = csv.writer(file)\n",
    "#         writer.writerow([\"date\", \"open\", \"high\", \"low\", \"close\", \"volume\"])\n",
    "#         writer.writerows(zip(data.Date, data.Open, data.High, data.Low, data.Close, data.Volume))\n",
    "#         file.close()"
   ]
  },
  {
   "cell_type": "markdown",
   "metadata": {},
   "source": [
    "# Training data (2000-2019)"
   ]
  },
  {
   "cell_type": "code",
   "execution_count": 5,
   "metadata": {},
   "outputs": [
    {
     "name": "stdout",
     "output_type": "stream",
     "text": [
      "[*********************100%***********************]  1 of 1 completed\n",
      "[*********************100%***********************]  1 of 1 completed\n",
      "[*********************100%***********************]  1 of 1 completed\n",
      "[*********************100%***********************]  1 of 1 completed\n",
      "[*********************100%***********************]  1 of 1 completed\n",
      "[*********************100%***********************]  1 of 1 completed\n",
      "[*********************100%***********************]  1 of 1 completed\n",
      "[*********************100%***********************]  1 of 1 completed\n",
      "[*********************100%***********************]  1 of 1 completed\n",
      "[*********************100%***********************]  1 of 1 completed\n",
      "[*********************100%***********************]  1 of 1 completed\n",
      "[*********************100%***********************]  1 of 1 completed\n",
      "[*********************100%***********************]  1 of 1 completed\n",
      "[*********************100%***********************]  1 of 1 completed\n",
      "[*********************100%***********************]  1 of 1 completed\n",
      "[*********************100%***********************]  1 of 1 completed\n",
      "[*********************100%***********************]  1 of 1 completed\n",
      "[*********************100%***********************]  1 of 1 completed\n",
      "[*********************100%***********************]  1 of 1 completed\n",
      "[*********************100%***********************]  1 of 1 completed\n",
      "[*********************100%***********************]  1 of 1 completed\n",
      "[*********************100%***********************]  1 of 1 completed\n",
      "[*********************100%***********************]  1 of 1 completed\n",
      "[*********************100%***********************]  1 of 1 completed\n",
      "[*********************100%***********************]  1 of 1 completed\n",
      "[*********************100%***********************]  1 of 1 completed\n",
      "[*********************100%***********************]  1 of 1 completed\n",
      "[*********************100%***********************]  1 of 1 completed\n",
      "[*********************100%***********************]  1 of 1 completed\n",
      "[*********************100%***********************]  1 of 1 completed\n"
     ]
    }
   ],
   "source": [
    "for tckt in tickers:\n",
    "    data = yf.download(tckt, start=\"2000-01-01\", end=\"2019-12-31\")\n",
    "    data = data.reset_index()\n",
    "\n",
    "    filename = tckt + \"_2000-2019.csv\"\n",
    "\n",
    "    with open(filename, 'w', newline='') as file:\n",
    "        writer = csv.writer(file)\n",
    "    #     writer.writerow([\"date\", \"<OPEN>\", \"<HIGH>\", \"<LOW>\", \"<CLOSE>\", \"<VOL>\"])\n",
    "        writer.writerow([\"date\", \"open\", \"high\", \"low\", \"close\", \"volume\"])\n",
    "        writer.writerows(zip(data.Date, data.Open, data.High, data.Low, data.Close, data.Volume))\n",
    "        file.close()"
   ]
  },
  {
   "cell_type": "markdown",
   "metadata": {},
   "source": [
    "# Training data (2020)"
   ]
  },
  {
   "cell_type": "code",
   "execution_count": 6,
   "metadata": {},
   "outputs": [
    {
     "name": "stdout",
     "output_type": "stream",
     "text": [
      "[*********************100%***********************]  1 of 1 completed\n",
      "[*********************100%***********************]  1 of 1 completed\n",
      "[*********************100%***********************]  1 of 1 completed\n",
      "[*********************100%***********************]  1 of 1 completed\n",
      "[*********************100%***********************]  1 of 1 completed\n",
      "[*********************100%***********************]  1 of 1 completed\n",
      "[*********************100%***********************]  1 of 1 completed\n",
      "[*********************100%***********************]  1 of 1 completed\n",
      "[*********************100%***********************]  1 of 1 completed\n",
      "[*********************100%***********************]  1 of 1 completed\n",
      "[*********************100%***********************]  1 of 1 completed\n",
      "[*********************100%***********************]  1 of 1 completed\n",
      "[*********************100%***********************]  1 of 1 completed\n",
      "[*********************100%***********************]  1 of 1 completed\n",
      "[*********************100%***********************]  1 of 1 completed\n",
      "[*********************100%***********************]  1 of 1 completed\n",
      "[*********************100%***********************]  1 of 1 completed\n",
      "[*********************100%***********************]  1 of 1 completed\n",
      "[*********************100%***********************]  1 of 1 completed\n",
      "[*********************100%***********************]  1 of 1 completed\n",
      "[*********************100%***********************]  1 of 1 completed\n",
      "[*********************100%***********************]  1 of 1 completed\n",
      "[*********************100%***********************]  1 of 1 completed\n",
      "[*********************100%***********************]  1 of 1 completed\n",
      "[*********************100%***********************]  1 of 1 completed\n",
      "[*********************100%***********************]  1 of 1 completed\n",
      "[*********************100%***********************]  1 of 1 completed\n",
      "[*********************100%***********************]  1 of 1 completed\n",
      "[*********************100%***********************]  1 of 1 completed\n",
      "[*********************100%***********************]  1 of 1 completed\n"
     ]
    }
   ],
   "source": [
    "for tckt in tickers:\n",
    "    data = yf.download(tckt, start=\"2020-01-01\", end=\"2020-12-31\")\n",
    "    data = data.reset_index()\n",
    "    filename = tckt + \"_2020.csv\"\n",
    "\n",
    "    with open(filename, 'w', newline='') as file:\n",
    "        writer = csv.writer(file)\n",
    "    #     writer.writerow([\"date\", \"<OPEN>\", \"<HIGH>\", \"<LOW>\", \"<CLOSE>\", \"<VOL>\"])\n",
    "        writer.writerow([\"date\", \"open\", \"high\", \"low\", \"close\", \"volume\"])\n",
    "        writer.writerows(zip(data.Date, data.Open, data.High, data.Low, data.Close, data.Volume))\n",
    "        file.close()"
   ]
  },
  {
   "cell_type": "code",
   "execution_count": null,
   "metadata": {},
   "outputs": [],
   "source": []
  }
 ],
 "metadata": {
  "kernelspec": {
   "display_name": "Python 3",
   "language": "python",
   "name": "python3"
  },
  "language_info": {
   "codemirror_mode": {
    "name": "ipython",
    "version": 3
   },
   "file_extension": ".py",
   "mimetype": "text/x-python",
   "name": "python",
   "nbconvert_exporter": "python",
   "pygments_lexer": "ipython3",
   "version": "3.8.5"
  }
 },
 "nbformat": 4,
 "nbformat_minor": 4
}
